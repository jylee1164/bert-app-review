{
 "cells": [
  {
   "cell_type": "code",
   "execution_count": null,
   "metadata": {},
   "outputs": [],
   "source": [
    "import numpy as np\n",
    "import pandas as pd\n",
    "\n",
    "import random\n",
    "import pickle\n",
    "\n",
    "import os\n",
    "import glob\n",
    "\n",
    "import time\n",
    "import datetime\n",
    "import json\n",
    "\n",
    "import torch\n",
    "from torch import nn\n",
    "from torch.utils.data import Dataset, DataLoader\n",
    "import gluonnlp as nlp\n",
    "from mxnet.gluon.data import SimpleDataset\n",
    "\n",
    "from kobert.pytorch_kobert import get_pytorch_kobert_model\n",
    "from kobert.utils import get_tokenizer\n",
    "\n",
    "from kobert_classifier import BERTDataset_Ops, BERTClassifier_HLHL\n",
    "\n",
    "\n",
    "# 리뷰간 유사도 분석 모듈\n",
    "from run_bert import KoBert\n",
    "from predict import Predict\n",
    "from add_data import AddData"
   ]
  },
  {
   "cell_type": "code",
   "execution_count": null,
   "metadata": {},
   "outputs": [],
   "source": [
    "device = torch.device(\"cuda:0\" if torch.cuda.is_available() else \"cpu\")\n",
    "\n",
    "### RANDOM SEED 고정\n",
    "seed_val = 42\n",
    "random.seed(seed_val)\n",
    "np.random.seed(seed_val)\n",
    "torch.manual_seed(seed_val)\n",
    "torch.cuda.manual_seed_all(seed_val)\n",
    "\n",
    "kobert_cache_dir = os.path.join('..', 'install', 'kobert', '')\n",
    "kobert_cache_dir = '~/kobert/'\n",
    "\n",
    "kb = KoBert(cachedir=kobert_cache_dir)\n",
    "predict_s = Predict(review_dir='data', kb=kb)\n",
    "a = AddData(review_dir='data', 'kb')"
   ]
  },
  {
   "cell_type": "code",
   "execution_count": null,
   "metadata": {},
   "outputs": [],
   "source": [
    "root_dir = '..'\n",
    "\n",
    "# input 데이터 폴더\n",
    "input_dir = os.path.join(root_dir, 'data')\n",
    "# output 폴더\n",
    "output_dir = os.path.join(root_dir, 'data', 'output')\n",
    "\n",
    "# KoBERT tokenizer\n",
    "tok = nlp.data.BERTSPTokenizer(kb.tok_path, kb.vocab, lower=False)\n",
    "\n",
    "# "
   ]
  },
  {
   "cell_type": "code",
   "execution_count": null,
   "metadata": {},
   "outputs": [],
   "source": []
  }
 ],
 "metadata": {
  "kernelspec": {
   "display_name": "Python 3",
   "language": "python",
   "name": "python3"
  },
  "language_info": {
   "codemirror_mode": {
    "name": "ipython",
    "version": 3
   },
   "file_extension": ".py",
   "mimetype": "text/x-python",
   "name": "python",
   "nbconvert_exporter": "python",
   "pygments_lexer": "ipython3",
   "version": "3.7.6"
  }
 },
 "nbformat": 4,
 "nbformat_minor": 4
}
